{
 "cells": [
  {
   "cell_type": "code",
   "execution_count": 2,
   "id": "80fcc85b-dc2c-49b9-8d24-796ff6fb36c7",
   "metadata": {},
   "outputs": [],
   "source": [
    "import pandas as pd"
   ]
  },
  {
   "cell_type": "markdown",
   "id": "4b931c8b-96b8-4280-a391-9a3a6b8a37f6",
   "metadata": {},
   "source": [
    "Ahora debemos vernos de esta manera\n"
   ]
  },
  {
   "cell_type": "code",
   "execution_count": null,
   "id": "cdbab7ab-59af-4127-b5cd-59fff2108583",
   "metadata": {},
   "outputs": [],
   "source": []
  }
 ],
 "metadata": {
  "kernelspec": {
   "display_name": "Python 3 (ipykernel)",
   "language": "python",
   "name": "python3"
  },
  "language_info": {
   "codemirror_mode": {
    "name": "ipython",
    "version": 3
   },
   "file_extension": ".py",
   "mimetype": "text/x-python",
   "name": "python",
   "nbconvert_exporter": "python",
   "pygments_lexer": "ipython3",
   "version": "3.10.9"
  }
 },
 "nbformat": 4,
 "nbformat_minor": 5
}
